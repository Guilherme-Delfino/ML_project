{
 "cells": [
  {
   "cell_type": "markdown",
   "id": "bdfe0af2",
   "metadata": {},
   "source": [
    "In this notebook we choose the architecture and structure of our DNN"
   ]
  },
  {
   "cell_type": "code",
   "execution_count": 21,
   "id": "16c9771c",
   "metadata": {},
   "outputs": [],
   "source": [
    "L=12\n",
    "p=int(2**(L/2))\n",
    "q=int((2**L)/4)"
   ]
  },
  {
   "cell_type": "code",
   "execution_count": 2,
   "id": "a6d859fb",
   "metadata": {},
   "outputs": [],
   "source": [
    "import numpy as np\n",
    "import matplotlib.pyplot as plt\n",
    "import pandas as pd\n",
    "\n",
    "from __future__ import print_function\n",
    "import keras,sklearn\n",
    "import tensorflow.compat.v1 as tf\n",
    "tf.disable_v2_behavior()\n",
    "\n",
    "seed=0\n",
    "np.random.seed(seed) # fix random seed\n",
    "tf.set_random_seed(seed)\n"
   ]
  },
  {
   "cell_type": "code",
   "execution_count": 5,
   "id": "f2d006cb",
   "metadata": {},
   "outputs": [],
   "source": [
    "PM_train_df = pd.read_csv ('PM_train_data.csv')\n",
    "SG_train_df = pd.read_csv ('SG_train_data.csv')\n",
    "THERM_train_df = pd.read_csv ('THERM_train_data.csv')"
   ]
  },
  {
   "cell_type": "code",
   "execution_count": 6,
   "id": "f9937562",
   "metadata": {},
   "outputs": [],
   "source": [
    "PM_train = PM_train_df.to_numpy()\n",
    "SG_train = SG_train_df.to_numpy()\n",
    "THERM_train = THERM_train_df.to_numpy()"
   ]
  },
  {
   "cell_type": "code",
   "execution_count": 25,
   "id": "b02ddc35",
   "metadata": {},
   "outputs": [
    {
     "name": "stdout",
     "output_type": "stream",
     "text": [
      "X_train shape: (2400, 65536)\n",
      "Y_train shape: (2400, 3)\n",
      "X_test shape: (600, 65536)\n",
      "Y_test shape: (600, 3)\n",
      "\n",
      "2400 train samples\n"
     ]
    }
   ],
   "source": [
    "# There are three possible outcomes\n",
    "num_classes = 3\n",
    "#train_test_ratio = 0.8\n",
    "\n",
    "img_rows, img_cols = 28, 28 # number of pixels \n",
    "\n",
    "# the data, shuffled and split between train and test sets\n",
    "#(X_train, Y_train), (X_test, Y_test) = mnist.load_data()\n",
    "X_train = np.append(PM_train[0:800], SG_train[0:800], axis=0)\n",
    "X_train = np.append(X_train, THERM_train[0:800], axis=0)\n",
    "\n",
    "X_test= np.append(PM_train[800:1000], SG_train[800:1000], axis=0)\n",
    "X_test = np.append(X_test, THERM_train[800:1000], axis=0)\n",
    "\n",
    "Y_train = np.zeros(800)\n",
    "Y_train = np.append(Y_train, np.ones(800))\n",
    "Y_train = np.append(Y_train, 2*np.ones(800))\n",
    "\n",
    "Y_test = np.zeros(200)\n",
    "Y_test = np.append(Y_test, np.ones(200))\n",
    "Y_test = np.append(Y_test, 2*np.ones(200))\n",
    "\n",
    "# reshape data, depending on Keras backend\n",
    "#X_train = X_train.reshape(X_train.shape[0], img_rows*img_cols)\n",
    "#X_test = X_test.reshape(X_test.shape[0], img_rows*img_cols)\n",
    "    \n",
    "# cast floats to single precesion\n",
    "X_train = X_train.astype('float32')\n",
    "X_test = X_test.astype('float32')\n",
    "\n",
    "# rescale data in interval [0,1]\n",
    "#X_train /= 255\n",
    "#X_test /= 255\n",
    "\n",
    " #look at an example of data point\n",
    "#print('an example of a data point with label', Y_train[20])\n",
    "#plt.matshow(X_train[20,:].reshape(2**6,2**10),cmap='binary')\n",
    "#plt.show()\n",
    "\n",
    "# convert class vectors to binary class matrices\n",
    "Y_train = keras.utils.np_utils.to_categorical(Y_train, num_classes)\n",
    "Y_test = keras.utils.np_utils.to_categorical(Y_test, num_classes)\n",
    "\n",
    "print('X_train shape:', X_train.shape)\n",
    "print('Y_train shape:', Y_train.shape)\n",
    "print('X_test shape:', X_test.shape)\n",
    "print('Y_test shape:', Y_test.shape)\n",
    "print()\n",
    "print(X_train.shape[0], 'train samples')"
   ]
  },
  {
   "cell_type": "code",
   "execution_count": 15,
   "id": "205d83a1",
   "metadata": {},
   "outputs": [
    {
     "data": {
      "text/plain": [
       "65536"
      ]
     },
     "execution_count": 15,
     "metadata": {},
     "output_type": "execute_result"
    }
   ],
   "source": [
    "len(X_train[0])"
   ]
  },
  {
   "cell_type": "code",
   "execution_count": 29,
   "id": "7fa8fff1",
   "metadata": {},
   "outputs": [
    {
     "name": "stdout",
     "output_type": "stream",
     "text": [
      "Model architecture created successfully!\n"
     ]
    }
   ],
   "source": [
    "from keras.models import Sequential\n",
    "from keras.layers import Dense, Dropout, Flatten\n",
    "from keras.layers import Conv2D, MaxPooling2D\n",
    "\n",
    "\n",
    "def create_DNN():\n",
    "    # instantiate model\n",
    "    model = Sequential()\n",
    "    # add a dense all-to-all relu layer\n",
    "    model.add(Dense(100,input_shape=(p*q,), activation='relu'))\n",
    "    # add a dense all-to-all relu layer\n",
    "    #model.add(Dense(100, activation='relu'))\n",
    "    # apply dropout with rate 0.5\n",
    "    model.add(Dropout(0.5))\n",
    "    # soft-max layer\n",
    "    model.add(Dense(num_classes, activation='softmax'))\n",
    "    \n",
    "    return model\n",
    "\n",
    "print('Model architecture created successfully!')"
   ]
  },
  {
   "cell_type": "code",
   "execution_count": 30,
   "id": "83060a5c",
   "metadata": {},
   "outputs": [
    {
     "name": "stdout",
     "output_type": "stream",
     "text": [
      "Model compiled successfully and ready to be trained.\n"
     ]
    }
   ],
   "source": [
    "def compile_model(optimizer=tf.keras.optimizers.Adam()):\n",
    "    # create the mode\n",
    "    model=create_DNN()\n",
    "    # compile the model\n",
    "    model.compile(loss=keras.losses.categorical_crossentropy,\n",
    "                  optimizer=optimizer,\n",
    "                  metrics=['accuracy'])\n",
    "    return model\n",
    "\n",
    "print('Model compiled successfully and ready to be trained.')"
   ]
  },
  {
   "cell_type": "code",
   "execution_count": 31,
   "id": "bab90340",
   "metadata": {},
   "outputs": [
    {
     "name": "stdout",
     "output_type": "stream",
     "text": [
      "Train on 2400 samples, validate on 600 samples\n",
      "Epoch 1/10\n",
      "2400/2400 [==============================] - ETA: 0s - loss: 0.3538 - acc: 0.8654"
     ]
    },
    {
     "name": "stderr",
     "output_type": "stream",
     "text": [
      "C:\\Users\\guilh\\anaconda3\\lib\\site-packages\\keras\\engine\\training_v1.py:2057: UserWarning: `Model.state_updates` will be removed in a future version. This property should not be used in TensorFlow 2.0, as `updates` are applied automatically.\n",
      "  updates = self.state_updates\n"
     ]
    },
    {
     "name": "stdout",
     "output_type": "stream",
     "text": [
      "2400/2400 [==============================] - 3s 1ms/sample - loss: 0.3538 - acc: 0.8654 - val_loss: 0.3002 - val_acc: 0.8833\n",
      "Epoch 2/10\n",
      "2400/2400 [==============================] - 3s 1ms/sample - loss: 0.2640 - acc: 0.8992 - val_loss: 0.2622 - val_acc: 0.8967\n",
      "Epoch 3/10\n",
      "2400/2400 [==============================] - 3s 1ms/sample - loss: 0.2416 - acc: 0.9079 - val_loss: 0.2755 - val_acc: 0.8950\n",
      "Epoch 4/10\n",
      "2400/2400 [==============================] - 4s 1ms/sample - loss: 0.2340 - acc: 0.9092 - val_loss: 0.2629 - val_acc: 0.8967\n",
      "Epoch 5/10\n",
      "2400/2400 [==============================] - 4s 2ms/sample - loss: 0.2393 - acc: 0.9092 - val_loss: 0.2615 - val_acc: 0.8967\n",
      "Epoch 6/10\n",
      "2400/2400 [==============================] - 4s 2ms/sample - loss: 0.2239 - acc: 0.9208 - val_loss: 0.2701 - val_acc: 0.9000\n",
      "Epoch 7/10\n",
      "2400/2400 [==============================] - 5s 2ms/sample - loss: 0.2346 - acc: 0.9079 - val_loss: 0.2824 - val_acc: 0.8933\n",
      "Epoch 8/10\n",
      "2400/2400 [==============================] - 4s 2ms/sample - loss: 0.2347 - acc: 0.9104 - val_loss: 0.2606 - val_acc: 0.9050\n",
      "Epoch 9/10\n",
      "2400/2400 [==============================] - 4s 2ms/sample - loss: 0.2203 - acc: 0.9217 - val_loss: 0.2739 - val_acc: 0.8950\n",
      "Epoch 10/10\n",
      "2400/2400 [==============================] - 4s 2ms/sample - loss: 0.2186 - acc: 0.9212 - val_loss: 0.2886 - val_acc: 0.8917\n"
     ]
    }
   ],
   "source": [
    "# training parameters\n",
    "batch_size = 64\n",
    "epochs = 10\n",
    "\n",
    "# create the deep neural net\n",
    "model_DNN=compile_model()\n",
    "\n",
    "# train DNN and store training info in history\n",
    "history=model_DNN.fit(X_train, Y_train,\n",
    "          batch_size=batch_size,\n",
    "          epochs=epochs,\n",
    "          verbose=1,\n",
    "          validation_data=(X_test, Y_test))"
   ]
  },
  {
   "cell_type": "code",
   "execution_count": 32,
   "id": "6e323d47",
   "metadata": {},
   "outputs": [
    {
     "name": "stdout",
     "output_type": "stream",
     "text": [
      "\n",
      "Test loss: 0.28863523838420707\n",
      "Test accuracy: 0.89166665\n"
     ]
    },
    {
     "data": {
      "image/png": "[encoded data removed]",
      "text/plain": [
       "<Figure size 432x288 with 1 Axes>"
      ]
     },
     "metadata": {
      "needs_background": "light"
     },
     "output_type": "display_data"
    },
    {
     "data": {
      "image/png": "[encoded data removed]",
      "text/plain": [
       "<Figure size 432x288 with 1 Axes>"
      ]
     },
     "metadata": {
      "needs_background": "light"
     },
     "output_type": "display_data"
    }
   ],
   "source": [
    "# evaluate model\n",
    "score = model_DNN.evaluate(X_test, Y_test, verbose=1)\n",
    "\n",
    "# print performance\n",
    "print()\n",
    "print('Test loss:', score[0])\n",
    "print('Test accuracy:', score[1])\n",
    "\n",
    "# look into training history\n",
    "\n",
    "# summarize history for accuracy\n",
    "plt.plot(history.history['acc'])\n",
    "plt.plot(history.history['val_acc'])\n",
    "plt.ylabel('model accuracy')\n",
    "plt.xlabel('epoch')\n",
    "plt.legend(['train', 'test'], loc='best')\n",
    "plt.show()\n",
    "\n",
    "# summarize history for loss\n",
    "plt.plot(history.history['loss'])\n",
    "plt.plot(history.history['val_loss'])\n",
    "plt.ylabel('model loss')\n",
    "plt.xlabel('epoch')\n",
    "plt.legend(['train', 'test'], loc='best')\n",
    "plt.show()"
   ]
  },
  {
   "cell_type": "markdown",
   "id": "de2f3d17",
   "metadata": {},
   "source": [
    "## Learning transfer"
   ]
  },
  {
   "cell_type": "markdown",
   "id": "6cbac792",
   "metadata": {},
   "source": [
    "Let us now use the trained model to predict the phases in which other points in the phase space belong based on their entanglement spectrum"
   ]
  },
  {
   "cell_type": "code",
   "execution_count": 33,
   "id": "5c8e1f69",
   "metadata": {},
   "outputs": [],
   "source": [
    "test_data_df = pd.read_csv ('test_data.csv')"
   ]
  },
  {
   "cell_type": "code",
   "execution_count": 38,
   "id": "463ae8e5",
   "metadata": {},
   "outputs": [
    {
     "data": {
      "text/plain": [
       "(45, 65536)"
      ]
     },
     "execution_count": 38,
     "metadata": {},
     "output_type": "execute_result"
    }
   ],
   "source": [
    "test_data = test_data_df.to_numpy()\n",
    "test_data.shape\n"
   ]
  },
  {
   "cell_type": "code",
   "execution_count": null,
   "id": "156f41c4",
   "metadata": {},
   "outputs": [],
   "source": []
  }
 ],
 "metadata": {
  "kernelspec": {
   "display_name": "Python 3 (ipykernel)",
   "language": "python",
   "name": "python3"
  },
  "language_info": {
   "codemirror_mode": {
    "name": "ipython",
    "version": 3
   },
   "file_extension": ".py",
   "mimetype": "text/x-python",
   "name": "python",
   "nbconvert_exporter": "python",
   "pygments_lexer": "ipython3",
   "version": "3.9.7"
  }
 },
 "nbformat": 4,
 "nbformat_minor": 5
}
