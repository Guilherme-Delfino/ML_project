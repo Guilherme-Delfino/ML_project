{
 "cells": [
  {
   "cell_type": "markdown",
   "id": "95102dc1",
   "metadata": {},
   "source": [
    "In this notebook we choose the architecture and structure of our DNN"
   ]
  },
  {
   "cell_type": "code",
   "execution_count": 4,
   "id": "361f95d3",
   "metadata": {},
   "outputs": [],
   "source": [
    "L=12\n",
    "p=int(2**(L/2))\n",
    "q=int((2**L)/4)"
   ]
  },
  {
   "cell_type": "code",
   "execution_count": 102,
   "id": "6b50beec",
   "metadata": {},
   "outputs": [],
   "source": [
    "import numpy as np\n",
    "import matplotlib.pyplot as plt\n",
    "import pandas as pd\n",
    "\n",
    "from matplotlib import rc\n",
    "rc('font',**{'family':'serif','sans-serif':['Computer Modern Sans serif'], 'size':15})\n",
    "rc('text', usetex=True)\n",
    "\n",
    "from __future__ import print_function\n",
    "import keras,sklearn\n",
    "import tensorflow.compat.v1 as tf\n",
    "tf.disable_v2_behavior()\n",
    "\n",
    "seed=0\n",
    "np.random.seed(seed) # fix random seed\n",
    "tf.set_random_seed(seed)\n"
   ]
  },
  {
   "cell_type": "code",
   "execution_count": 6,
   "id": "e46b7152",
   "metadata": {},
   "outputs": [],
   "source": [
    "PM_train_df = pd.read_csv ('PM_train_data.csv')\n",
    "SG_train_df = pd.read_csv ('SG_train_data.csv')\n",
    "THERM_train_df = pd.read_csv ('THERM_train_data.csv')"
   ]
  },
  {
   "cell_type": "code",
   "execution_count": 7,
   "id": "8f4a9d0d",
   "metadata": {},
   "outputs": [],
   "source": [
    "PM_train = PM_train_df.to_numpy()\n",
    "SG_train = SG_train_df.to_numpy()\n",
    "THERM_train = THERM_train_df.to_numpy()"
   ]
  },
  {
   "cell_type": "code",
   "execution_count": 8,
   "id": "a5b94d09",
   "metadata": {},
   "outputs": [
    {
     "name": "stdout",
     "output_type": "stream",
     "text": [
      "X_train shape: (2400, 65536)\n",
      "Y_train shape: (2400, 3)\n",
      "X_test shape: (600, 65536)\n",
      "Y_test shape: (600, 3)\n",
      "\n",
      "2400 train samples\n"
     ]
    }
   ],
   "source": [
    "# There are three possible outcomes\n",
    "num_classes = 3\n",
    "#train_test_ratio = 0.8\n",
    "\n",
    "img_rows, img_cols = 28, 28 # number of pixels \n",
    "\n",
    "# the data, shuffled and split between train and test sets\n",
    "#(X_train, Y_train), (X_test, Y_test) = mnist.load_data()\n",
    "X_train = np.append(PM_train[0:800], SG_train[0:800], axis=0)\n",
    "X_train = np.append(X_train, THERM_train[0:800], axis=0)\n",
    "\n",
    "X_test= np.append(PM_train[800:1000], SG_train[800:1000], axis=0)\n",
    "X_test = np.append(X_test, THERM_train[800:1000], axis=0)\n",
    "\n",
    "Y_train = np.zeros(800)\n",
    "Y_train = np.append(Y_train, np.ones(800))\n",
    "Y_train = np.append(Y_train, 2*np.ones(800))\n",
    "\n",
    "Y_test = np.zeros(200)\n",
    "Y_test = np.append(Y_test, np.ones(200))\n",
    "Y_test = np.append(Y_test, 2*np.ones(200))\n",
    "\n",
    "# reshape data, depending on Keras backend\n",
    "#X_train = X_train.reshape(X_train.shape[0], img_rows*img_cols)\n",
    "#X_test = X_test.reshape(X_test.shape[0], img_rows*img_cols)\n",
    "    \n",
    "# cast floats to single precesion\n",
    "X_train = X_train.astype('float32')\n",
    "X_test = X_test.astype('float32')\n",
    "\n",
    "# rescale data in interval [0,1]\n",
    "#X_train /= 255\n",
    "#X_test /= 255\n",
    "\n",
    " #look at an example of data point\n",
    "#print('an example of a data point with label', Y_train[20])\n",
    "#plt.matshow(X_train[20,:].reshape(2**6,2**10),cmap='binary')\n",
    "#plt.show()\n",
    "\n",
    "# convert class vectors to binary class matrices\n",
    "Y_train = keras.utils.np_utils.to_categorical(Y_train, num_classes)\n",
    "Y_test = keras.utils.np_utils.to_categorical(Y_test, num_classes)\n",
    "\n",
    "print('X_train shape:', X_train.shape)\n",
    "print('Y_train shape:', Y_train.shape)\n",
    "print('X_test shape:', X_test.shape)\n",
    "print('Y_test shape:', Y_test.shape)\n",
    "print()\n",
    "print(X_train.shape[0], 'train samples')"
   ]
  },
  {
   "cell_type": "code",
   "execution_count": 9,
   "id": "f9110364",
   "metadata": {},
   "outputs": [
    {
     "data": {
      "text/plain": [
       "65536"
      ]
     },
     "execution_count": 9,
     "metadata": {},
     "output_type": "execute_result"
    }
   ],
   "source": [
    "len(X_train[0])"
   ]
  },
  {
   "cell_type": "code",
   "execution_count": 10,
   "id": "60e98ab3",
   "metadata": {},
   "outputs": [
    {
     "name": "stdout",
     "output_type": "stream",
     "text": [
      "Model architecture created successfully!\n"
     ]
    }
   ],
   "source": [
    "from keras.models import Sequential\n",
    "from keras.layers import Dense, Dropout, Flatten\n",
    "from keras.layers import Conv2D, MaxPooling2D\n",
    "\n",
    "\n",
    "def create_DNN():\n",
    "    # instantiate model\n",
    "    model = Sequential()\n",
    "    # add a dense all-to-all relu layer\n",
    "    model.add(Dense(100,input_shape=(p*q,), activation='relu'))\n",
    "    # add a dense all-to-all relu layer\n",
    "    #model.add(Dense(100, activation='relu'))\n",
    "    # apply dropout with rate 0.5\n",
    "    model.add(Dropout(0.5))\n",
    "    # soft-max layer\n",
    "    model.add(Dense(num_classes, activation='softmax'))\n",
    "    \n",
    "    return model\n",
    "\n",
    "print('Model architecture created successfully!')"
   ]
  },
  {
   "cell_type": "code",
   "execution_count": 11,
   "id": "13d0332f",
   "metadata": {},
   "outputs": [
    {
     "name": "stdout",
     "output_type": "stream",
     "text": [
      "Model compiled successfully and ready to be trained.\n"
     ]
    }
   ],
   "source": [
    "def compile_model(optimizer=tf.keras.optimizers.Adam()):\n",
    "    # create the mode\n",
    "    model=create_DNN()\n",
    "    # compile the model\n",
    "    model.compile(loss=keras.losses.categorical_crossentropy,\n",
    "                  optimizer=optimizer,\n",
    "                  metrics=['accuracy'])\n",
    "    return model\n",
    "\n",
    "print('Model compiled successfully and ready to be trained.')"
   ]
  },
  {
   "cell_type": "code",
   "execution_count": 12,
   "id": "ae6de85d",
   "metadata": {},
   "outputs": [
    {
     "name": "stdout",
     "output_type": "stream",
     "text": [
      "Train on 2400 samples, validate on 600 samples\n",
      "Epoch 1/10\n",
      "2400/2400 [==============================] - ETA: 0s - loss: 0.3396 - acc: 0.8650"
     ]
    },
    {
     "name": "stderr",
     "output_type": "stream",
     "text": [
      "C:\\Users\\guilh\\anaconda3\\lib\\site-packages\\keras\\engine\\training_v1.py:2057: UserWarning: `Model.state_updates` will be removed in a future version. This property should not be used in TensorFlow 2.0, as `updates` are applied automatically.\n",
      "  updates = self.state_updates\n"
     ]
    },
    {
     "name": "stdout",
     "output_type": "stream",
     "text": [
      "2400/2400 [==============================] - 5s 2ms/sample - loss: 0.3396 - acc: 0.8650 - val_loss: 0.2902 - val_acc: 0.8850\n",
      "Epoch 2/10\n",
      "2400/2400 [==============================] - 4s 2ms/sample - loss: 0.2529 - acc: 0.9004 - val_loss: 0.2644 - val_acc: 0.9017\n",
      "Epoch 3/10\n",
      "2400/2400 [==============================] - 5s 2ms/sample - loss: 0.2375 - acc: 0.9104 - val_loss: 0.2661 - val_acc: 0.8967\n",
      "Epoch 4/10\n",
      "2400/2400 [==============================] - 5s 2ms/sample - loss: 0.2425 - acc: 0.9075 - val_loss: 0.2752 - val_acc: 0.8950\n",
      "Epoch 5/10\n",
      "2400/2400 [==============================] - 4s 2ms/sample - loss: 0.2326 - acc: 0.9137 - val_loss: 0.2589 - val_acc: 0.9000\n",
      "Epoch 6/10\n",
      "2400/2400 [==============================] - 4s 2ms/sample - loss: 0.2229 - acc: 0.9150 - val_loss: 0.2845 - val_acc: 0.8983\n",
      "Epoch 7/10\n",
      "2400/2400 [==============================] - 4s 2ms/sample - loss: 0.2303 - acc: 0.9075 - val_loss: 0.2702 - val_acc: 0.9017\n",
      "Epoch 8/10\n",
      "2400/2400 [==============================] - 4s 2ms/sample - loss: 0.2160 - acc: 0.9221 - val_loss: 0.2607 - val_acc: 0.8967\n",
      "Epoch 9/10\n",
      "2400/2400 [==============================] - 4s 2ms/sample - loss: 0.2169 - acc: 0.9175 - val_loss: 0.2729 - val_acc: 0.9033\n",
      "Epoch 10/10\n",
      "2400/2400 [==============================] - 4s 2ms/sample - loss: 0.2072 - acc: 0.9267 - val_loss: 0.2810 - val_acc: 0.8967\n"
     ]
    }
   ],
   "source": [
    "# training parameters\n",
    "batch_size = 64\n",
    "epochs = 10\n",
    "\n",
    "# create the deep neural net\n",
    "model_DNN=compile_model()\n",
    "\n",
    "# train DNN and store training info in history\n",
    "history=model_DNN.fit(X_train, Y_train,\n",
    "          batch_size=batch_size,\n",
    "          epochs=epochs,\n",
    "          verbose=1,\n",
    "          validation_data=(X_test, Y_test))"
   ]
  },
  {
   "cell_type": "code",
   "execution_count": 111,
   "id": "0b257aca",
   "metadata": {},
   "outputs": [
    {
     "name": "stdout",
     "output_type": "stream",
     "text": [
      "\n",
      "Test loss: 0.28101033564656974\n",
      "Test accuracy: 0.89666665\n"
     ]
    },
    {
     "data": {
      "image/png": "[encoded data removed]",
      "text/plain": [
       "<Figure size 432x288 with 1 Axes>"
      ]
     },
     "metadata": {
      "needs_background": "light"
     },
     "output_type": "display_data"
    }
   ],
   "source": [
    "# evaluate model\n",
    "score = model_DNN.evaluate(X_test, Y_test, verbose=1)\n",
    "\n",
    "# print performance\n",
    "print()\n",
    "print('Test loss:', score[0])\n",
    "print('Test accuracy:', score[1])\n",
    "\n",
    "# look into training history\n",
    "\n",
    "# summarize history for accuracy\n",
    "plt.plot(history.history['acc'])\n",
    "plt.plot(history.history['val_acc'])\n",
    "plt.ylabel('Model accuracy')\n",
    "plt.xlabel('Epoch')\n",
    "plt.legend(['Train', 'Test'], loc='best')\n",
    "plt.savefig('accuracy_model.png')\n",
    "plt.show()\n",
    "\n",
    "\n",
    "# summarize history for loss\n",
    "#plt.plot(history.history['loss'])\n",
    "#plt.plot(history.history['val_loss'])\n",
    "#plt.ylabel('model loss')\n",
    "#plt.xlabel('epoch')\n",
    "#plt.legend(['train', 'test'], loc='best')\n",
    "#plt.show()\n",
    "#plt.savefig('accuracy_model.png')"
   ]
  },
  {
   "cell_type": "markdown",
   "id": "1faacb8c",
   "metadata": {},
   "source": [
    "## Transfer learning"
   ]
  },
  {
   "cell_type": "markdown",
   "id": "a8e0e743",
   "metadata": {},
   "source": [
    "Let us now use the trained model to predict the phases in which other points in the phase space belong based on their entanglement spectrum"
   ]
  },
  {
   "cell_type": "code",
   "execution_count": 53,
   "id": "45d73b3c",
   "metadata": {},
   "outputs": [],
   "source": [
    "#range in delta and lambda space\n",
    "delta_values = np.linspace(-1,1,11)\n",
    "lambda_values = np.linspace(0,2,11)\n",
    "pred_out = np.zeros([len(lambda_values), len(delta_values), num_classes])\n",
    "for i,lambd in enumerate(lambda_values):\n",
    "    for j,delta in enumerate(delta_values):    \n",
    "        test_data_df = pd.read_csv('test_data/test_data_lambda={}_delta={}.csv'.format(np.round(lambd,2), np.round(delta,2)))\n",
    "        test_data = test_data_df.to_numpy()\n",
    "        prediction = model_DNN.predict(test_data)\n",
    "        pred_out[i,j,:] = prediction\n",
    "        \n",
    "#This should give a prediction on the probability of being in a certain phase for a single instance,\n",
    "#I did not have time to write it fr all instances and do averaging (I guess just average probabilities of being)\n",
    "#in either phase over n \n",
    "\n",
    "\n",
    "        \n",
    "        "
   ]
  },
  {
   "cell_type": "markdown",
   "id": "03befecf-0183-4c84-9310-35b57e5d1953",
   "metadata": {},
   "source": [
    "1+1 "
   ]
  },
  {
   "cell_type": "code",
   "execution_count": 112,
   "id": "ee9162c4-f78c-49a6-9e2d-e457008f3da3",
   "metadata": {},
   "outputs": [
    {
     "name": "stderr",
     "output_type": "stream",
     "text": [
      "C:\\Users\\guilh\\AppData\\Local\\Temp/ipykernel_14608/1756765001.py:7: UserWarning: FixedFormatter should only be used together with FixedLocator\n",
      "  axes.set_xticklabels(d)\n",
      "C:\\Users\\guilh\\AppData\\Local\\Temp/ipykernel_14608/1756765001.py:8: UserWarning: FixedFormatter should only be used together with FixedLocator\n",
      "  axes.set_yticklabels(l)\n"
     ]
    },
    {
     "data": {
      "image/png": "[encoded data removed]",
      "text/plain": [
       "<Figure size 432x288 with 1 Axes>"
      ]
     },
     "metadata": {
      "needs_background": "light"
     },
     "output_type": "display_data"
    }
   ],
   "source": [
    "d=[0,-1.,  -0.6, -0.2,  0.2, 0.6, 1. ]\n",
    "l= [0,0, 0.4, 0.8, 1.2, 1.6, 2.0]\n",
    "\n",
    "figure=plt.figure()\n",
    "axes = figure.add_subplot(111)\n",
    "caxes=axes.matshow(pred_out)\n",
    "axes.set_xticklabels(d)\n",
    "axes.set_yticklabels(l)\n",
    "axes.set_xlabel('$\\delta$')\n",
    "axes.set_ylabel('$\\lambda$')\n",
    "plt.gca().invert_yaxis()\n",
    "\n",
    "plt.savefig('phase_diagram_n=0.png')"
   ]
  },
  {
   "cell_type": "code",
   "execution_count": null,
   "id": "4f63beeb-a430-4839-b33e-d6057793dad1",
   "metadata": {},
   "outputs": [],
   "source": []
  }
 ],
 "metadata": {
  "kernelspec": {
   "display_name": "Python 3 (ipykernel)",
   "language": "python",
   "name": "python3"
  },
  "language_info": {
   "codemirror_mode": {
    "name": "ipython",
    "version": 3
   },
   "file_extension": ".py",
   "mimetype": "text/x-python",
   "name": "python",
   "nbconvert_exporter": "python",
   "pygments_lexer": "ipython3",
   "version": "3.9.7"
  }
 },
 "nbformat": 4,
 "nbformat_minor": 5
}
